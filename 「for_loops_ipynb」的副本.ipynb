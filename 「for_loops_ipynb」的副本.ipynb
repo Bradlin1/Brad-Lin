{
  "nbformat": 4,
  "nbformat_minor": 0,
  "metadata": {
    "colab": {
      "provenance": [],
      "include_colab_link": true
    },
    "kernelspec": {
      "name": "python3",
      "display_name": "Python 3"
    },
    "language_info": {
      "name": "python"
    }
  },
  "cells": [
    {
      "cell_type": "markdown",
      "metadata": {
        "id": "view-in-github",
        "colab_type": "text"
      },
      "source": [
        "<a href=\"https://colab.research.google.com/github/Bradlin1/Brad-Lin/blob/main/%E3%80%8Cfor_loops_ipynb%E3%80%8D%E7%9A%84%E5%89%AF%E6%9C%AC.ipynb\" target=\"_parent\"><img src=\"https://colab.research.google.com/assets/colab-badge.svg\" alt=\"Open In Colab\"/></a>"
      ]
    },
    {
      "cell_type": "markdown",
      "source": [
        "### **Introduction to `for` Loops**\n",
        "\n",
        "In programming, a `for` loop provides a clean and concise way to iterate over a sequence of items. It's one of the most commonly used loops due to its simplicity and versatility in handling structured data types.\n",
        "\n",
        "---\n",
        "\n",
        "### **Iterating Over Ranges**\n",
        "\n",
        "The `range()` function generates a sequence of numbers, which can be used in a `for` loop to repeat an action a specific number of times.\n",
        "\n",
        "**Basic Syntax:**\n",
        "```python\n",
        "for variable in range(start, stop, step):\n",
        "    # body of the loop\n",
        "```\n",
        "\n",
        "- `start`: The beginning value (optional, default is 0).\n",
        "- `stop`: The end value (exclusive).\n",
        "- `step`: The increment/decrement value (optional, default is 1).\n",
        "\n",
        "**Example 1:** Counting from 0 to 4\n",
        "```python\n",
        "for i in range(5):\n",
        "    print(i)\n",
        "```\n",
        "\n",
        "**Example 2:** Counting from 2 to 8 in steps of 2\n",
        "```python\n",
        "for i in range(2, 9, 2):\n",
        "    print(i)\n",
        "```\n",
        "\n",
        "---\n",
        "\n",
        "### **Iterating Over Lists**\n",
        "\n",
        "A `for` loop can directly iterate over items in a list without needing to reference indices.\n",
        "\n",
        "**Basic Syntax:**\n",
        "```python\n",
        "for item in list_name:\n",
        "    # body of the loop\n",
        "```\n",
        "\n",
        "**Example:** Printing all items in a list\n",
        "```python\n",
        "fruits = [\"apple\", \"banana\", \"cherry\"]\n",
        "for fruit in fruits:\n",
        "    print(fruit)\n",
        "```\n",
        "\n",
        "**Note:** The `for` loop can also iterate over other iterable data types like tuples, sets, strings, and dictionaries.\n",
        "\n",
        "---\n",
        "\n"
      ],
      "metadata": {
        "id": "jPs46T6tIdCB"
      }
    },
    {
      "cell_type": "code",
      "source": [
        "#You can play around with the examples in this cell"
      ],
      "metadata": {
        "id": "vTqc3r88JzoK"
      },
      "execution_count": null,
      "outputs": []
    },
    {
      "cell_type": "markdown",
      "source": [
        "\n",
        "### **Practice Exercises:**\n",
        "\n",
        "1. **Number Doubler:** For numbers 1 through 10, print each number doubled.\n",
        "\n"
      ],
      "metadata": {
        "id": "5X8znl34J3A2"
      }
    },
    {
      "cell_type": "code",
      "source": [
        "#Ex1\n",
        "for t in range(1,11):\n",
        "  t*=2\n",
        "  print(t)\n",
        "\n"
      ],
      "metadata": {
        "id": "UwcBDItUJsyv",
        "colab": {
          "base_uri": "https://localhost:8080/"
        },
        "outputId": "7a99d994-732e-4bfd-ba8b-bc1d81c4991c"
      },
      "execution_count": null,
      "outputs": [
        {
          "output_type": "stream",
          "name": "stdout",
          "text": [
            "2\n",
            "4\n",
            "6\n",
            "8\n",
            "10\n",
            "12\n",
            "14\n",
            "16\n",
            "18\n",
            "20\n"
          ]
        }
      ]
    },
    {
      "cell_type": "markdown",
      "source": [
        "## **bold text**"
      ],
      "metadata": {
        "id": "l5iytoukJb1k"
      }
    },
    {
      "cell_type": "markdown",
      "source": [],
      "metadata": {
        "id": "UK47TZKLJcPA"
      }
    },
    {
      "cell_type": "markdown",
      "source": [
        "2. **Vowel Finder:** Given a word, iterate over it and print only the vowels.\n"
      ],
      "metadata": {
        "id": "an5RrtO3J617"
      }
    },
    {
      "cell_type": "code",
      "source": [
        "#Ex2\n",
        "word = input(\"enter a word: \").lower()\n",
        "vowel = \"aeiou\"\n",
        "for i in word:\n",
        "  if i in vowel:\n",
        "    print(i)"
      ],
      "metadata": {
        "id": "LefNxEbXJ8Zw",
        "colab": {
          "base_uri": "https://localhost:8080/"
        },
        "outputId": "ce935f4d-1c36-4c65-9a85-54ec81b8ab13"
      },
      "execution_count": null,
      "outputs": [
        {
          "output_type": "stream",
          "name": "stdout",
          "text": [
            "enter a word: ERTYuio\n",
            "e\n",
            "u\n",
            "i\n",
            "o\n"
          ]
        }
      ]
    },
    {
      "cell_type": "markdown",
      "source": [
        "3. **List Reverser:** Without using built-in functions, reverse the items in a list.\n",
        "\n",
        "\n",
        "\n"
      ],
      "metadata": {
        "id": "SWs102V4J9u-"
      }
    },
    {
      "cell_type": "code",
      "source": [
        "list1=input(\"Create a list: \")\n",
        "listmaker=list1.split()\n",
        "for i in range(len(listmaker)-1, -1, -1):\n",
        "  print(listmaker[i])"
      ],
      "metadata": {
        "id": "ev_24-pQJ_eN",
        "colab": {
          "base_uri": "https://localhost:8080/"
        },
        "outputId": "8692de41-fc59-445c-a7a7-a5ab6b60c865"
      },
      "execution_count": null,
      "outputs": [
        {
          "output_type": "stream",
          "name": "stdout",
          "text": [
            "Create a list: My name is brad\n",
            "brad\n",
            "is\n",
            "name\n",
            "My\n"
          ]
        }
      ]
    },
    {
      "cell_type": "markdown",
      "source": [
        "4. **Odd Number Counter:** Given a list of numbers, count how many odd numbers there are.\n"
      ],
      "metadata": {
        "id": "nzzOUhNiKAqP"
      }
    },
    {
      "cell_type": "code",
      "source": [
        "#Ex4\n",
        "odds = 0\n",
        "nums = (input(\"enter some number:\"))\n",
        "l=nums.split()\n",
        "listmaker=[int(item) for item in l ]\n",
        "for i in range(len(listmaker)):\n",
        "    if listmaker[i] % 2 != 0:\n",
        "        odds += 1\n",
        "print(f\"there is {odds} odds\")\n",
        "\n"
      ],
      "metadata": {
        "id": "VMYhMku7KB8S",
        "colab": {
          "base_uri": "https://localhost:8080/"
        },
        "outputId": "2ff45cdc-e1ca-419b-d166-8a3ec9480165"
      },
      "execution_count": null,
      "outputs": [
        {
          "output_type": "stream",
          "name": "stdout",
          "text": [
            "enter some number:1 2 3 4 5\n",
            "there is 3 odds\n"
          ]
        }
      ]
    },
    {
      "cell_type": "markdown",
      "source": [
        "5. **Grade Assigner:** For a list of scores, assign and print grades (e.g., A, B, C).\n"
      ],
      "metadata": {
        "id": "lMx0qR57KDI4"
      }
    },
    {
      "cell_type": "code",
      "source": [
        "#Ex5\n",
        "grades = input(\"enter ur grades:\")\n",
        "l = grades.split()\n",
        "listmaker = [int(item) for item in l]\n",
        "for i in listmaker:\n",
        "  if i <70:\n",
        "    print(\"D\")\n",
        "  elif i <80:\n",
        "    print(\"C\")\n",
        "  elif i <90:\n",
        "    print(\"B\")\n",
        "  else:\n",
        "    print(\"A\")\n",
        "\n",
        "\n"
      ],
      "metadata": {
        "id": "9UhJ6-F6KFDN",
        "colab": {
          "base_uri": "https://localhost:8080/"
        },
        "outputId": "b7859736-fe7b-4786-8d60-27acf57513ff"
      },
      "execution_count": null,
      "outputs": [
        {
          "output_type": "stream",
          "name": "stdout",
          "text": [
            "enter ur grades:78 789 12 45 78 60\n",
            "C\n",
            "A\n",
            "D\n",
            "D\n",
            "C\n",
            "D\n"
          ]
        }
      ]
    },
    {
      "cell_type": "markdown",
      "source": [
        "6. **Word Lengths:** For a list of words, print each word alongside its length.\n"
      ],
      "metadata": {
        "id": "a-5VcK9GKGMi"
      }
    },
    {
      "cell_type": "code",
      "source": [
        "#Ex6\n",
        "word_list = [\"dfgh\", \"sdtyuihgvc\", \"fyujftyui\", \"datyytftyute\", \"ftyuikjhgfty\"]\n",
        "\n",
        "\n",
        "for word in word_list:\n",
        "    print(f\"the word is: {word}, the length is: {len(word)}\")"
      ],
      "metadata": {
        "id": "WJ2YmGMZKT68",
        "colab": {
          "base_uri": "https://localhost:8080/"
        },
        "outputId": "b1b90d06-5ba4-4a3d-f764-8dfd21df2d29"
      },
      "execution_count": 2,
      "outputs": [
        {
          "output_type": "stream",
          "name": "stdout",
          "text": [
            "the word is: dfgh, the length is: 4\n",
            "the word is: sdtyuihgvc, the length is: 10\n",
            "the word is: fyujftyui, the length is: 9\n",
            "the word is: datyytftyute, the length is: 12\n",
            "the word is: ftyuikjhgfty, the length is: 12\n"
          ]
        }
      ]
    },
    {
      "cell_type": "markdown",
      "source": [
        "7. **Positive Number Finder:** Given a list of numbers, print only the positive ones.\n"
      ],
      "metadata": {
        "id": "G7NqPlM_KflV"
      }
    },
    {
      "cell_type": "code",
      "source": [
        "#Ex7\n",
        "number_list = [51, -232, 1450, -227, 3, 5432, 824, -14567]\n",
        "\n",
        "for number in number_list:\n",
        "    if number > 0:\n",
        "        print(number)"
      ],
      "metadata": {
        "id": "W2_2S2xBKgsY",
        "colab": {
          "base_uri": "https://localhost:8080/"
        },
        "outputId": "32c3089f-49b0-43bf-f0c7-891bfd3eec21"
      },
      "execution_count": 3,
      "outputs": [
        {
          "output_type": "stream",
          "name": "stdout",
          "text": [
            "51\n",
            "1450\n",
            "3\n",
            "5432\n",
            "824\n"
          ]
        }
      ]
    },
    {
      "cell_type": "markdown",
      "source": [
        "8. **Temperature Converter:** Convert a list of temperatures from Celsius to Fahrenheit and print them.\n"
      ],
      "metadata": {
        "id": "Am8UDtkgKhwu"
      }
    },
    {
      "cell_type": "code",
      "source": [
        "#Ex8\n",
        "ctemps = [0, 25, 100, -10, 36.5]\n",
        "ftemps = []\n",
        "for c in ctemps:\n",
        "    f = (c * 9/5) + 32\n",
        "    ftemps.append(f)\n",
        "for index, f in enumerate(ftemps):\n",
        "    print(f\"{ctemps[index]}°C is {f}°F\")"
      ],
      "metadata": {
        "id": "nXjgFlTeKi3h",
        "colab": {
          "base_uri": "https://localhost:8080/"
        },
        "outputId": "538155aa-c8d4-40c6-e80a-6f85d9bbc212"
      },
      "execution_count": 4,
      "outputs": [
        {
          "output_type": "stream",
          "name": "stdout",
          "text": [
            "0°C is 32.0°F\n",
            "25°C is 77.0°F\n",
            "100°C is 212.0°F\n",
            "-10°C is 14.0°F\n",
            "36.5°C is 97.7°F\n"
          ]
        }
      ]
    },
    {
      "cell_type": "markdown",
      "source": [
        "9. **Name Initials:** For a list of full names, print the initials of each name.\n",
        "\n",
        "\n",
        "\n",
        "\n"
      ],
      "metadata": {
        "id": "MhodCC6HKkLh"
      }
    },
    {
      "cell_type": "code",
      "source": [
        "#Ex9\n",
        "full_names = [\"Brad Lin\", \"Luke Hsu\", \"David Kim\", \"Aaron Lin\", \"Michael Li\"]\n",
        "\n",
        "for names in full_names:\n",
        "    initials = ''.join([word[0].upper() for word in names.split()])\n",
        "    print(f\"Name: {names}, Initials: {initials}\")"
      ],
      "metadata": {
        "id": "HQ5_rY3-Klnc",
        "colab": {
          "base_uri": "https://localhost:8080/"
        },
        "outputId": "2f5403a1-c7ba-455e-bf3e-00d542672eaf"
      },
      "execution_count": 5,
      "outputs": [
        {
          "output_type": "stream",
          "name": "stdout",
          "text": [
            "Name: Brad Lin, Initials: BL\n",
            "Name: Luke Hsu, Initials: LH\n",
            "Name: David Kim, Initials: DK\n",
            "Name: Aaron Lin, Initials: AL\n",
            "Name: Michael Li, Initials: ML\n"
          ]
        }
      ]
    },
    {
      "cell_type": "markdown",
      "source": [
        "10. **Range Sum:** Calculate the sum of numbers from 1 to 100 using a `for` loop."
      ],
      "metadata": {
        "id": "Sbmpt_V3Kpd_"
      }
    },
    {
      "cell_type": "code",
      "source": [
        "#Ex10\n",
        "total_sum = 0\n",
        "\n",
        "for number in range(1, 101):\n",
        "    total_sum += number\n",
        "print(\"The sum of numbers from 1 to 100 is:\", total_sum)"
      ],
      "metadata": {
        "id": "EQ1De9pKKrrz"
      },
      "execution_count": null,
      "outputs": []
    }
  ]
}
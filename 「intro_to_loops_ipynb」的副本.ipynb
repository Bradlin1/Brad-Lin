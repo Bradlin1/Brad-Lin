{
  "cells": [
    {
      "cell_type": "markdown",
      "metadata": {
        "id": "view-in-github",
        "colab_type": "text"
      },
      "source": [
        "<a href=\"https://colab.research.google.com/github/Bradlin1/Brad-Lin/blob/main/%E3%80%8Cintro_to_loops_ipynb%E3%80%8D%E7%9A%84%E5%89%AF%E6%9C%AC.ipynb\" target=\"_parent\"><img src=\"https://colab.research.google.com/assets/colab-badge.svg\" alt=\"Open In Colab\"/></a>"
      ]
    },
    {
      "cell_type": "markdown",
      "metadata": {
        "id": "a2Db_gg2H9l2"
      },
      "source": [
        "\n",
        "### **Introduction to Loops**\n",
        "\n",
        "In programming, loops offer a way to perform a set of instructions repeatedly. They are fundamental for tasks that require the same action to be taken on a series of items, or for actions to be repeated until a certain condition is met.\n",
        "\n",
        "---\n",
        "\n",
        "### **Understanding the `while` Loop and its Applications**\n",
        "\n",
        "The `while` loop executes a block of code as long as a specified condition remains `True`.\n",
        "\n",
        "**Basic Syntax:**\n",
        "```python\n",
        "while condition:\n",
        "    # body of the loop\n",
        "```\n",
        "\n",
        "**Example:**\n",
        "```python\n",
        "count = 0\n",
        "while count < 5:\n",
        "    print(count)\n",
        "    count += 1\n",
        "```\n",
        "\n",
        "In the above example, the loop will print numbers from 0 to 4. The loop continues as long as `count` is less than 5.\n",
        "\n",
        "**Applications:**\n",
        "1. **Repeating an action** until a user decides to quit.\n",
        "2. **Waiting for an external condition** to change (e.g., waiting for user input).\n",
        "3. **Polling:** Checking repeatedly if a resource is available or a task is completed.\n",
        "\n",
        "---\n",
        "\n",
        "### **Creating Counters and Accumulators**\n",
        "\n",
        "**1. Counters:**\n",
        "A counter is a variable that is incremented or decremented with each iteration of a loop.\n",
        "\n",
        "**Example:**\n",
        "```python\n",
        "# Counting how many times a loop runs\n",
        "count = 0\n",
        "while count < 10:\n",
        "    print(\"Loop iteration:\", count)\n",
        "    count += 1\n",
        "```\n",
        "\n",
        "**2. Accumulators:**\n",
        "An accumulator is a variable that collects or accumulates a value over time within a loop.\n",
        "\n",
        "**Example:**\n",
        "```python\n",
        "# Summing numbers from 1 to 5\n",
        "total = 0\n",
        "number = 1\n",
        "while number <= 5:\n",
        "    total += number\n",
        "    number += 1\n",
        "print(\"Total sum:\", total)\n",
        "```\n",
        "\n",
        "In the above example, `total` is an accumulator that collects the sum of numbers from 1 to 5.\n",
        "\n",
        "\n"
      ]
    },
    {
      "cell_type": "code",
      "execution_count": null,
      "metadata": {
        "id": "ixvEg1OJI0vm"
      },
      "outputs": [],
      "source": [
        "#Play around with the examples in this cell"
      ]
    },
    {
      "cell_type": "markdown",
      "metadata": {
        "id": "icvXf-Q8I4tF"
      },
      "source": [
        "---\n",
        "\n",
        "### **Practice Exercises:**\n",
        "\n",
        "1. **Positive Number Collector:** Ask the user to keep entering numbers. Stop when they enter a negative number and display the sum of all positive numbers entered.\n"
      ]
    },
    {
      "cell_type": "code",
      "execution_count": null,
      "metadata": {
        "colab": {
          "base_uri": "https://localhost:8080/"
        },
        "id": "HWqs6QFuI6Pd",
        "outputId": "f8edb9f1-1898-4810-bf48-8ab3a14ef4c6"
      },
      "outputs": [
        {
          "name": "stdout",
          "output_type": "stream",
          "text": [
            "enter a number:1\n",
            "enter a number:2\n",
            "enter a number:-1\n",
            "Total sum: 3\n"
          ]
        }
      ],
      "source": [
        "#Ex1\n",
        "\n",
        "total = 0\n",
        "number=int(input(\"enter a number:\"))\n",
        "while number > 0:\n",
        "  total += number\n",
        "  number=int(input(\"enter a number:\"))\n",
        "print(f\"Total sum:{total}\")"
      ]
    },
    {
      "cell_type": "markdown",
      "metadata": {
        "id": "-_u-1EvmI8Dj"
      },
      "source": [
        "2. **Guessing Game:** Think of a number between 1 and 10. Allow the user to guess until they get the right number.\n"
      ]
    },
    {
      "cell_type": "code",
      "execution_count": null,
      "metadata": {
        "colab": {
          "base_uri": "https://localhost:8080/"
        },
        "id": "pmd2ui8UI9nI",
        "outputId": "c58a933b-c426-4a89-cb48-1729e977b929"
      },
      "outputs": [
        {
          "name": "stdout",
          "output_type": "stream",
          "text": [
            "guess a number between 1 and 10:6\n",
            "It's the right number\n"
          ]
        }
      ],
      "source": [
        "#Ex2\n",
        "num_guess = 0\n",
        "right_num = 6\n",
        "while num_guess != right_num:\n",
        "  num_guess = int(input(\"guess a number between 1 and 10:\"))\n",
        "  if num_guess == right_num:\n",
        "    print(\"It's the right number\")\n",
        "  else:\n",
        "    print(\"it's the wrong number.Try again.\")"
      ]
    },
    {
      "cell_type": "markdown",
      "metadata": {
        "id": "sMHpPBRQI_Kh"
      },
      "source": [
        "3. **Exponential Growth:** Given a number, keep multiplying it by 2 until it exceeds 1000. Count how many multiplications were needed.\n"
      ]
    },
    {
      "cell_type": "code",
      "execution_count": null,
      "metadata": {
        "colab": {
          "base_uri": "https://localhost:8080/"
        },
        "id": "5ueHSVhEJA5S",
        "outputId": "1430b46a-be57-4278-f7f4-3a0adea8425c"
      },
      "outputs": [
        {
          "name": "stdout",
          "output_type": "stream",
          "text": [
            "give me a number:2\n",
            "1024\n",
            "9 multiplications\n"
          ]
        }
      ],
      "source": [
        "#Ex3\n",
        "count = 0\n",
        "num = 0\n",
        "num=int(input(\"give me a number:\"))\n",
        "while num < 1000:\n",
        "  num*=2\n",
        "  count+=1\n",
        "print(num)\n",
        "print(f\"{count}multiplications\")\n",
        "\n",
        "\n",
        "\n"
      ]
    },
    {
      "cell_type": "markdown",
      "metadata": {
        "id": "R37qmrpgJCZY"
      },
      "source": [
        "4. **Password Retry:** Allow a user 3 attempts to enter a correct password.\n",
        "\n",
        "\n"
      ]
    },
    {
      "cell_type": "code",
      "execution_count": 3,
      "metadata": {
        "id": "-mVz_khOJDt3",
        "colab": {
          "base_uri": "https://localhost:8080/"
        },
        "outputId": "f1bcb41c-f3c1-4c78-b81e-e8859161e104"
      },
      "outputs": [
        {
          "output_type": "stream",
          "name": "stdout",
          "text": [
            "enter ur pass word:hjkl\n",
            "it's the wrong password.Try again.\n",
            "enter ur password:hjkl\n",
            "it's the wrong password.Try again.\n",
            "enter ur password:huiop\n",
            "u r run out of attempts\n"
          ]
        }
      ],
      "source": [
        "#Ex4\n",
        "guess_times = 0\n",
        "right_pw = \"hello69\"\n",
        "pw_guess = input(\"enter ur pass word:\")\n",
        "while guess_times<2:\n",
        "  guess_times+=1\n",
        "  if pw_guess == right_pw:\n",
        "    print(\"It's the right password\")\n",
        "    break\n",
        "  else:\n",
        "    print(\"it's the wrong password.Try again.\")\n",
        "  pw_guess = input(\"enter ur password:\")\n",
        "print(\"u r run out of attempts\")"
      ]
    },
    {
      "cell_type": "markdown",
      "metadata": {
        "id": "xE9VCCIPJEtP"
      },
      "source": [
        "5. **Interest Calculator:** If you invest $100 at a 5% annual interest rate, how many years will it take for the money to double using compound interest?\n"
      ]
    },
    {
      "cell_type": "code",
      "execution_count": 6,
      "metadata": {
        "id": "_muBoRqzJGB3",
        "colab": {
          "base_uri": "https://localhost:8080/"
        },
        "outputId": "e0316941-6ccd-4be9-e429-666089d0c41f"
      },
      "outputs": [
        {
          "output_type": "stream",
          "name": "stdout",
          "text": [
            "207.89281794113688\n",
            "15 years\n"
          ]
        }
      ],
      "source": [
        "#Ex5\n",
        "count = 0\n",
        "money = 100\n",
        "while money < 200:\n",
        "  money*=1.05\n",
        "  count+=1\n",
        "print(money)\n",
        "print(f\"{count}years\")"
      ]
    },
    {
      "cell_type": "markdown",
      "metadata": {
        "id": "UGn7LFPyJHUi"
      },
      "source": [
        "6. **Number of Divisors:** For a given number, find out how many divisors it has.\n"
      ]
    },
    {
      "cell_type": "code",
      "execution_count": 21,
      "metadata": {
        "id": "50u_gFOuJJBB",
        "colab": {
          "base_uri": "https://localhost:8080/"
        },
        "outputId": "fb0536d8-107f-4cfc-cbcb-dfd8355cd37a"
      },
      "outputs": [
        {
          "output_type": "stream",
          "name": "stdout",
          "text": [
            "Define number: 5\n",
            "2\n"
          ]
        }
      ],
      "source": [
        "number=int(input(\"Define number: \"))\n",
        "div=0\n",
        "for i in range(1, number+1):\n",
        "  if number%i==0:\n",
        "    div +=1\n",
        "print(div)"
      ]
    },
    {
      "cell_type": "markdown",
      "metadata": {
        "id": "LAoVS7NyJLDl"
      },
      "source": [
        "7. **User Input Collector:** Keep asking the user for input until they type \"exit\" or \"quit\".\n"
      ]
    },
    {
      "cell_type": "code",
      "execution_count": 19,
      "metadata": {
        "id": "51EYMHtzJMVE",
        "colab": {
          "base_uri": "https://localhost:8080/"
        },
        "outputId": "95eb98e5-2a68-40c8-8f6f-0046eb17ff75"
      },
      "outputs": [
        {
          "name": "stdout",
          "output_type": "stream",
          "text": [
            "Input: 342\n",
            "Input: 344\n",
            "Input: exit\n"
          ]
        }
      ],
      "source": [
        "#Ex7\n",
        "x=input(\"Input: \")\n",
        "while x.lower() != \"exit\" and \"quit\":\n",
        "  x=input(\"Input: \")\n",
        ""
      ]
    },
    {
      "cell_type": "markdown",
      "metadata": {
        "id": "-Bmx7J87JOFD"
      },
      "source": [
        ":8. **Factorial Calculator:** Calculate the factorial of a number using a loop.\n",
        "\n",
        "\n"
      ]
    },
    {
      "cell_type": "code",
      "execution_count": 11,
      "metadata": {
        "id": "i_Ai-9CpJPf3",
        "colab": {
          "base_uri": "https://localhost:8080/"
        },
        "outputId": "b789e164-53c6-43a9-f3e8-1427e56e797f"
      },
      "outputs": [
        {
          "output_type": "stream",
          "name": "stdout",
          "text": [
            "Enter a number: 4\n",
            "The factorial of 4 is 24\n"
          ]
        }
      ],
      "source": [
        "#Ex8\n",
        "num = int(input(\"Enter a number: \"))\n",
        "if num < 0:\n",
        "    print(\"it can't be negative numbers\")\n",
        "else:\n",
        "    result = 1\n",
        "    i = 2\n",
        "    while i <= num:\n",
        "        result *= i\n",
        "        i += 1\n",
        "    print(f\"The factorial of {num} is {result}\")"
      ]
    },
    {
      "cell_type": "markdown",
      "metadata": {
        "id": "DC6RN9NGJQpX"
      },
      "source": [
        "9. **Fibonacci Sequence:** Generate the first N numbers of the Fibonacci sequence.\n"
      ]
    },
    {
      "cell_type": "code",
      "execution_count": 4,
      "metadata": {
        "id": "6RV7fRW9JR-b",
        "colab": {
          "base_uri": "https://localhost:8080/"
        },
        "outputId": "a4cee69d-7c35-4572-e932-fc03b22ab6d5"
      },
      "outputs": [
        {
          "output_type": "stream",
          "name": "stdout",
          "text": [
            "First N numbers of the sequence: 55\n",
            "0\n",
            "1\n",
            "1\n",
            "2\n",
            "3\n",
            "5\n",
            "8\n",
            "13\n",
            "21\n",
            "34\n",
            "55\n",
            "89\n",
            "144\n",
            "233\n",
            "377\n",
            "610\n",
            "987\n",
            "1597\n",
            "2584\n",
            "4181\n",
            "6765\n",
            "10946\n",
            "17711\n",
            "28657\n",
            "46368\n",
            "75025\n",
            "121393\n",
            "196418\n",
            "317811\n",
            "514229\n",
            "832040\n",
            "1346269\n",
            "2178309\n",
            "3524578\n",
            "5702887\n",
            "9227465\n",
            "14930352\n",
            "24157817\n",
            "39088169\n",
            "63245986\n",
            "102334155\n",
            "165580141\n",
            "267914296\n",
            "433494437\n",
            "701408733\n",
            "1134903170\n",
            "1836311903\n",
            "2971215073\n",
            "4807526976\n",
            "7778742049\n",
            "12586269025\n",
            "20365011074\n",
            "32951280099\n",
            "53316291173\n",
            "86267571272\n"
          ]
        }
      ],
      "source": [
        "n=int(input(\"First N numbers of the sequence: \"))\n",
        "sequence=0\n",
        "n0=0\n",
        "n1=1\n",
        "while sequence<n:\n",
        "  print(n0)\n",
        "  n2=n0+n1\n",
        "  n0=n1\n",
        "  n1=n2\n",
        "  sequence +=1\n"
      ]
    },
    {
      "cell_type": "markdown",
      "metadata": {
        "id": "dnX8zfHcJTXi"
      },
      "source": [
        "10. **Decreasing Counter:** Start from 100 and count down by sevens. Stop if the number goes negative."
      ]
    },
    {
      "cell_type": "code",
      "execution_count": 19,
      "metadata": {
        "id": "2bkZxvmIJUHN",
        "colab": {
          "base_uri": "https://localhost:8080/"
        },
        "outputId": "60c1bc4b-9223-492f-f829-4633c6fc716c"
      },
      "outputs": [
        {
          "output_type": "stream",
          "name": "stdout",
          "text": [
            "100\n",
            "93\n",
            "86\n",
            "79\n",
            "72\n",
            "65\n",
            "58\n",
            "51\n",
            "44\n",
            "37\n",
            "30\n",
            "23\n",
            "16\n",
            "9\n",
            "2\n"
          ]
        }
      ],
      "source": [
        "#Ex10\n",
        "start_num=100\n",
        "while start_num>0:\n",
        "  print(start_num)\n",
        "  start_num-=7"
      ]
    }
  ],
  "metadata": {
    "colab": {
      "provenance": [],
      "include_colab_link": true
    },
    "kernelspec": {
      "display_name": "Python 3",
      "name": "python3"
    },
    "language_info": {
      "name": "python"
    }
  },
  "nbformat": 4,
  "nbformat_minor": 0
}
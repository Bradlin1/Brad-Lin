{
  "nbformat": 4,
  "nbformat_minor": 0,
  "metadata": {
    "colab": {
      "provenance": [],
      "include_colab_link": true
    },
    "kernelspec": {
      "name": "python3",
      "display_name": "Python 3"
    },
    "language_info": {
      "name": "python"
    }
  },
  "cells": [
    {
      "cell_type": "markdown",
      "metadata": {
        "id": "view-in-github",
        "colab_type": "text"
      },
      "source": [
        "<a href=\"https://colab.research.google.com/github/Bradlin1/Brad-Lin/blob/main/%E3%80%8Clogical_operators_ipynb%E3%80%8D%E7%9A%84%E5%89%AF%E6%9C%AC.ipynb\" target=\"_parent\"><img src=\"https://colab.research.google.com/assets/colab-badge.svg\" alt=\"Open In Colab\"/></a>"
      ]
    },
    {
      "cell_type": "markdown",
      "source": [
        "\n",
        "### **Logical Operators**\n",
        "\n",
        "Logical operators are used to combine conditional statements.\n",
        "\n",
        "**1. `and` Operator:**\n",
        "- Returns `True` if both statements are true.\n",
        "  \n",
        "  **Example:**\n",
        "  ```python\n",
        "  age = 25\n",
        "  if age > 18 and age < 30:\n",
        "      print(\"You are a young adult.\")\n",
        "  ```\n",
        "\n",
        "**2. `or` Operator:**\n",
        "- Returns `True` if at least one of the statements is true.\n",
        "  \n",
        "  **Example:**\n",
        "  ```python\n",
        "  day = \"Sunday\"\n",
        "  if day == \"Saturday\" or day == \"Sunday\":\n",
        "      print(\"It's the weekend!\")\n",
        "  ```\n",
        "\n",
        "**3. `not` Operator:**\n",
        "- Used to reverse the result; returns `False` if the result is true and vice versa.\n",
        "  \n",
        "  **Example:**\n",
        "  ```python\n",
        "  is_raining = False\n",
        "  if not is_raining:\n",
        "      print(\"It's a sunny day!\")\n",
        "  ```\n",
        "\n",
        "---\n",
        "\n",
        "### **Nested Conditional Statements**\n",
        "\n",
        "Sometimes, you may want to evaluate a condition inside another condition. This is referred to as nesting.\n",
        "\n",
        "**Example:**\n",
        "```python\n",
        "age = 25\n",
        "gender = \"Female\"\n",
        "if age < 30:\n",
        "    if gender == \"Female\":\n",
        "        print(\"Young female.\")\n",
        "    else:\n",
        "        print(\"Young male.\")\n",
        "else:\n",
        "    if gender == \"Female\":\n",
        "        print(\"Mature female.\")\n",
        "    else:\n",
        "        print(\"Mature male.\")\n",
        "```\n",
        "\n",
        "In the example above, the outer `if` checks the age, and the inner `if` checks the gender, leading to more precise classifications.\n",
        "\n"
      ],
      "metadata": {
        "id": "_J_0H623DMoG"
      }
    },
    {
      "cell_type": "code",
      "source": [
        "#Test the examples above here`"
      ],
      "metadata": {
        "id": "1tzurxbLDYuS"
      },
      "execution_count": null,
      "outputs": []
    },
    {
      "cell_type": "markdown",
      "source": [
        "### **Practice Exercises:**\n",
        "\n",
        "1. **Temperature Alert:**\n",
        "   - Ask the user for the current temperature and if it's raining (yes/no).\n",
        "   - If it's above 30°C and not raining, suggest wearing sunscreen. If it's below 30°C and raining, suggest taking an umbrella.\n",
        "\n",
        "\n",
        "\n"
      ],
      "metadata": {
        "id": "_2pb9LXWDcXE"
      }
    },
    {
      "cell_type": "code",
      "source": [
        "#Ex1\n",
        "print(\"what is the temp today?\")\n",
        "temp_today = float(input())\n",
        "print(\"Is it rainning outside?\")\n",
        "rain_today = input().lower()\n",
        "if temp_today < 30 and rain_today == \"yes\":\n",
        "  print(\"Considering the current weather conditions and forecast, it might be a good idea to take an umbrella with you.\")\n",
        "elif temp_today > 30 and rain_today == \"no\":\n",
        "  print(\"Wearing sunscreen is crucial for protecting your skin from the harmful effects of the sun's ultraviolet (UV) rays. UV radiation can lead to sunburn, premature aging, and an increased risk of skin cancer. \")\n",
        "else:\n",
        "  print(\"no suggestion for u :0\")"
      ],
      "metadata": {
        "id": "AyCFWr2cDiuz",
        "colab": {
          "base_uri": "https://localhost:8080/"
        },
        "outputId": "8b58cf08-0837-4929-c373-6e13f8a00f8a"
      },
      "execution_count": 5,
      "outputs": [
        {
          "output_type": "stream",
          "name": "stdout",
          "text": [
            "what is the temp today?\n",
            "66666\n",
            "Is it rainning outside?\n",
            "no\n",
            "Wearing sunscreen is crucial for protecting your skin from the harmful effects of the sun's ultraviolet (UV) rays. UV radiation can lead to sunburn, premature aging, and an increased risk of skin cancer. \n"
          ]
        }
      ]
    },
    {
      "cell_type": "markdown",
      "source": [
        "2. **Movie Night:**\n",
        "   - Ask the user if they like action movies and if they like romantic movies.\n",
        "   - Recommend a movie based on their preferences:\n",
        "     - Action and romance: \"Mr. & Mrs. Smith\",\n",
        "     - Only action: \"Die Hard\",\n",
        "     - Only romance: \"Pride and Prejudice\",\n",
        "     - Neither: \"Try watching a documentary!\"\n",
        "\n"
      ],
      "metadata": {
        "id": "hne5hxgMDj0i"
      }
    },
    {
      "cell_type": "code",
      "source": [
        "#Ex2\n",
        "print(\"what type of movie do u like? action or romantic?\")\n",
        "movie_type = input().lower()\n",
        "if movie_type == \"action\" and movie_type == \"romantic\":\n",
        "  print(\"suggest u to watch Mr. & Mrs. Smith\")\n",
        "elif movie_type == \"action\":\n",
        "  print(\"suggest u to watch Die Hard\")\n",
        "elif movie_type == \"romantic\":\n",
        "  print(\"suggest u to watch Pride and Prejudice\")\n",
        "else:\n",
        "    print(\"Try watching a documentary!\")\n",
        "\n",
        "\n"
      ],
      "metadata": {
        "id": "m13PVPajDlwd",
        "colab": {
          "base_uri": "https://localhost:8080/"
        },
        "outputId": "c82e3f0d-644e-4935-ad6b-d400a4ce979f"
      },
      "execution_count": null,
      "outputs": [
        {
          "output_type": "stream",
          "name": "stdout",
          "text": [
            "what type of movie do u like? action or romantic?\n",
            "romantic\n",
            "suggest u to watch Pride and Prejudice\n"
          ]
        }
      ]
    },
    {
      "cell_type": "markdown",
      "source": [
        "3. **Eligibility for a Credit Card:**\n",
        "   - Ask the user for their age and monthly salary.\n",
        "   - If they are over 18 and earn more than $1,000 per month, inform them they are eligible for a credit card.\n"
      ],
      "metadata": {
        "id": "2DUNWDlsDmzl"
      }
    },
    {
      "cell_type": "code",
      "source": [
        "#Ex3\n",
        "print(\"how old are u?\")\n",
        "age = int(input())\n",
        "print(\"how much is ur monthly salary?\")\n",
        "salary = input()\n",
        "if age >= 18 and salary > 1000:\n",
        "  print(\"u can get a credit card\")\n",
        "else:\n",
        "  print(\"u can't get any credit card\")"
      ],
      "metadata": {
        "id": "KiuF2ByZDoZG",
        "colab": {
          "base_uri": "https://localhost:8080/"
        },
        "outputId": "31523f8c-9651-43e9-e3af-31938bc644e7"
      },
      "execution_count": null,
      "outputs": [
        {
          "output_type": "stream",
          "name": "stdout",
          "text": [
            "how old are u?\n",
            "3\n",
            "how much is ur monthly salary?\n",
            "2000\n",
            "u can't get any credit card\n"
          ]
        }
      ]
    },
    {
      "cell_type": "markdown",
      "source": [
        "\n",
        "4. **Nested Age Bracket Classifier:**\n",
        "   - Ask the user for their age and gender.\n",
        "   - Classify them into 'Young/Mature Male/Female' using nested conditional statements.\n"
      ],
      "metadata": {
        "id": "0p0RmJMKDpdG"
      }
    },
    {
      "cell_type": "code",
      "source": [
        "#Ex4\n",
        "\n",
        "print(\"how old are u?\")\n",
        "age = int(input())\n",
        "print(\"what is ur gender?\")\n",
        "gender = input().lower\n",
        "if age < 18 :\n",
        "  if gender==\"male\":\n",
        "    print(\"young male\")\n",
        "  if gender==\"female\":\n",
        "    print(\"young female\")\n",
        "if age > 18 :\n",
        "  if gender==\"male\":\n",
        "    print(\"mature male\")\n",
        "  if gender==\"female\":\n",
        "    print(\"mature female\")\n",
        "\n",
        "\n",
        "\n"
      ],
      "metadata": {
        "id": "QSi5-aToDrnK",
        "colab": {
          "base_uri": "https://localhost:8080/"
        },
        "outputId": "d414849b-3e7e-42ff-80ca-30a67a186642"
      },
      "execution_count": null,
      "outputs": [
        {
          "name": "stdout",
          "output_type": "stream",
          "text": [
            "how old are u?\n",
            "7383\n",
            "what is ur gender?\n",
            "male\n"
          ]
        }
      ]
    },
    {
      "cell_type": "markdown",
      "source": [
        "\n",
        "5. **Weekend Activity Planner:**\n",
        "   - Ask the user if it's a weekend and if the weather is good.\n",
        "   - Provide activity suggestions based on their answers:\n",
        "     - Weekend and good weather: \"Go for a picnic!\",\n",
        "     - Weekend and bad weather: \"Maybe watch a movie at home?\",\n",
        "     - Weekday and good weather: \"Don't forget your sunglasses on your way to work!\",\n",
        "     - Weekday and bad weather: \"Take an umbrella today.\""
      ],
      "metadata": {
        "id": "tyG7h84BDsrX"
      }
    },
    {
      "cell_type": "code",
      "source": [
        "#Ex5\n",
        "print(\"What's the weather today? good or bad?\")\n",
        "weather = input().lower()\n",
        "print(\"what is today? weekend or weekdays\")\n",
        "week = input().lower()\n",
        "if week == \"weekend\" :\n",
        "  if weather == \"good\":\n",
        "    print(\"Go for a picnic\")\n",
        "  if weather == \"bad\":\n",
        "    print(\"Maybe watch a movie at home?\")\n",
        "if week == \"weekday\" :\n",
        "  if weather == \"good\":\n",
        "    print(\"Don't forget your sunglasses on your way to work!\")\n",
        "  if weather == \"bad\":\n",
        "    print(\"Take an umbrella today.\")\n",
        "\n"
      ],
      "metadata": {
        "id": "7q-ze3tCDtgQ",
        "colab": {
          "base_uri": "https://localhost:8080/"
        },
        "outputId": "24809cc1-f373-4a0c-8c88-b5df99d22327"
      },
      "execution_count": 2,
      "outputs": [
        {
          "output_type": "stream",
          "name": "stdout",
          "text": [
            "What's the weather today? good or bad?\n",
            "bad\n",
            "what is today? weekend or weekdays\n",
            "weekend\n",
            "Maybe watch a movie at home?\n"
          ]
        }
      ]
    }
  ]
}
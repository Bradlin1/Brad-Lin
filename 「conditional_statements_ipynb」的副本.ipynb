{
  "nbformat": 4,
  "nbformat_minor": 0,
  "metadata": {
    "colab": {
      "provenance": [],
      "include_colab_link": true
    },
    "kernelspec": {
      "name": "python3",
      "display_name": "Python 3"
    },
    "language_info": {
      "name": "python"
    }
  },
  "cells": [
    {
      "cell_type": "markdown",
      "metadata": {
        "id": "view-in-github",
        "colab_type": "text"
      },
      "source": [
        "<a href=\"https://colab.research.google.com/github/Bradlin1/Brad-Lin/blob/main/%E3%80%8Cconditional_statements_ipynb%E3%80%8D%E7%9A%84%E5%89%AF%E6%9C%AC.ipynb\" target=\"_parent\"><img src=\"https://colab.research.google.com/assets/colab-badge.svg\" alt=\"Open In Colab\"/></a>"
      ]
    },
    {
      "cell_type": "markdown",
      "source": [
        "### **Introduction to Conditional Statements**\n",
        "\n",
        "Conditional statements allow a program to evaluate specific conditions and make decisions based on those conditions. They introduce the concept of branching, where a program can follow different paths of execution based on certain criteria.\n",
        "\n",
        "---\n",
        "\n",
        "### **Understanding if, elif, and else Statements**\n",
        "\n",
        "**1. `if` Statement:**\n",
        "- The most basic type of conditional statement.\n",
        "- Evaluates a condition, and if it's `True`, the code inside the `if` block is executed.\n",
        "\n",
        "  **Example:**\n",
        "  ```python\n",
        "  age = 20\n",
        "  if age >= 18:\n",
        "      print(\"You are an adult!\")\n",
        "  ```\n",
        "\n",
        "**2. `elif` Statement:**\n",
        "- Short for \"else if\".\n",
        "- Used to check multiple conditions after the initial `if` condition.\n",
        "- The `elif` block is executed if its condition is `True`.\n",
        "\n",
        "  **Example:**\n",
        "  ```python\n",
        "  score = 85\n",
        "  if score >= 90:\n",
        "      grade = \"A\"\n",
        "  elif score >= 80:\n",
        "      grade = \"B\"\n",
        "  ```\n",
        "\n",
        "**3. `else` Statement:**\n",
        "- Catches anything which isn't caught by the preceding conditions.\n",
        "- Does not have a condition attached to it.\n",
        "\n",
        "  **Example:**\n",
        "  ```python\n",
        "  age = 15\n",
        "  if age >= 18:\n",
        "      print(\"You are an adult!\")\n",
        "  else:\n",
        "      print(\"You are a minor!\")\n",
        "  ```\n",
        "\n",
        "---\n",
        "\n",
        "### **Writing Conditions Using Comparison Operators**\n",
        "\n",
        "**1. `==`:** Checks if two values are equal.\n",
        "  - **Example:** `x == y`\n",
        "\n",
        "**2. `!=`:** Checks if two values are not equal.\n",
        "  - **Example:** `x != y`\n",
        "\n",
        "**3. `>`:** Checks if the value on the left is greater than the one on the right.\n",
        "  - **Example:** `x > y`\n",
        "\n",
        "**4. `<`:** Checks if the value on the left is less than the one on the right.\n",
        "  - **Example:** `x < y`\n",
        "\n",
        "**5. `>=`:** Checks if the value on the left is greater than or equal to the one on the right.\n",
        "  - **Example:** `x >= y`\n",
        "\n",
        "**6. `<=`:** Checks if the value on the left is less than or equal to the one on the right.\n",
        "  - **Example:** `x <= y`\n",
        "\n",
        "---\n"
      ],
      "metadata": {
        "id": "CjxdWcqxPhy0"
      }
    },
    {
      "cell_type": "markdown",
      "source": [
        "\n",
        "### **Practice Exercises:**\n",
        "\n",
        "1. **Weekday or Weekend:**\n",
        "    - Ask the user to input a day of the week (e.g., Monday, Tuesday, etc.).\n",
        "    - Inform them if the day is a weekday or a weekend.\n",
        "\n"
      ],
      "metadata": {
        "id": "Jim4Rsi7Pn0G"
      }
    },
    {
      "cell_type": "code",
      "source": [
        "#Ex1\n",
        "#I use the method that I learned last time from chatgpt and I make it by myself this time\n",
        "#transform days to num\n",
        "days_to_num = {\n",
        "    \"monday\": 1, \"tuesday\": 2, \"wednesday\": 3, \"thursday\": 4, \"firday\": 5,\n",
        "    \"saturday\": 6, \"sunday\": 7\n",
        "}\n",
        "#ask and input what day is today\n",
        "print(\"what day is today?\")\n",
        "days = input().lower()\n",
        "#Use days_to_num.get(days) recognize which number to each days\n",
        "Days = days_to_num.get(days)\n",
        "if Days <= 5 :\n",
        "  print(\"Its weekday\")\n",
        "else:\n",
        "  print(\"Its weekend\")\n",
        "\n",
        "\n"
      ],
      "metadata": {
        "id": "TkrdpDJXRKeJ",
        "colab": {
          "base_uri": "https://localhost:8080/"
        },
        "outputId": "deec7cad-6943-4ad8-d42d-17934fba7c2a"
      },
      "execution_count": 4,
      "outputs": [
        {
          "output_type": "stream",
          "name": "stdout",
          "text": [
            "what day is today?\n",
            "Monday\n",
            "Its weekday\n"
          ]
        }
      ]
    },
    {
      "cell_type": "markdown",
      "source": [
        "2. **Password Strength Checker:**\n",
        "    - Ask the user to input a password.\n",
        "    - Check if the password has at least 8 characters, starts with an uppercase letter, and ends with a number. Provide feedback on its strength.\n"
      ],
      "metadata": {
        "id": "1JPiLpsURKzz"
      }
    },
    {
      "cell_type": "code",
      "source": [
        "password_strength = 0\n",
        "print(\"Enter the pass word:\")\n",
        "pass_word_input = input()\n",
        "#at least 8 characters\n",
        "if len(pass_word_input) > 8:\n",
        "  password_strength += 1\n",
        "#starts with an uppercase letter\n",
        "if pass_word_input[0].upper() == True :\n",
        "  password_strength += 1\n",
        "#ends with a number\n",
        "if pass_word_input[-1].isdigit() == True :\n",
        "  password_strength += 1\n",
        "if password_strength >= 2:\n",
        "  print(\"ur password is strong\")\n",
        "else:\n",
        "  print(\"ur password is weak\")\n",
        "\n",
        "\n",
        "\n",
        "\n"
      ],
      "metadata": {
        "id": "sHB4UhrHRMy5",
        "colab": {
          "base_uri": "https://localhost:8080/"
        },
        "outputId": "5a719a6f-5bef-465e-eb30-36374385332b"
      },
      "execution_count": 6,
      "outputs": [
        {
          "output_type": "stream",
          "name": "stdout",
          "text": [
            "Enter the pass word:\n",
            "ygiugig\n",
            "ur password is weak\n"
          ]
        }
      ]
    },
    {
      "cell_type": "markdown",
      "source": [
        "3. **Movie Ticket Pricing:**\n",
        "    - Movie theaters often have different pricing depending on age groups.\n",
        "    - Children under 12: $5, Teens (12-17): $7, Adults (18-59): $10, Seniors (60+): $6.\n",
        "    - Ask the user for their age and tell them the cost of a movie ticket.\n"
      ],
      "metadata": {
        "id": "QABbfxrVRNfo"
      }
    },
    {
      "cell_type": "code",
      "source": [
        "print(\"how old r u?\")\n",
        "age = int(input())\n",
        "if age <= 12:\n",
        "  print(\"ur ticket is cost $5\")\n",
        "elif age < 18:\n",
        "  print(\"ur ticket is cost $7\")\n",
        "elif age <= 59:\n",
        "  print(\"ur ticket is cost $10\")\n",
        "else:\n",
        "  print(\"ur ticket is cost $6\")\n",
        "\n",
        "\n",
        "\n",
        "\n"
      ],
      "metadata": {
        "id": "-i4B1AYyRPGp",
        "colab": {
          "base_uri": "https://localhost:8080/"
        },
        "outputId": "a1ded1f9-4bb3-49a6-90a0-1c05c2112f19"
      },
      "execution_count": 14,
      "outputs": [
        {
          "output_type": "stream",
          "name": "stdout",
          "text": [
            "how old r u?\n",
            "69\n",
            "ur ticket is cost $6\n"
          ]
        }
      ]
    },
    {
      "cell_type": "markdown",
      "source": [
        "4. **Tax Calculator:**\n",
        "    - Depending on the amount of income, people are taxed at different rates.\n",
        "    - Income up to $10,000: No tax, Income $10,001-$50,000: 10% tax, Income $50,001 and above: 20% tax.\n",
        "    - Ask the user for their income and calculate the tax they owe.\n",
        "\n"
      ],
      "metadata": {
        "id": "4RMhCDsXRPTO"
      }
    },
    {
      "cell_type": "code",
      "source": [
        "print(\"how much is ur income?\")\n",
        "income = int(input())\n",
        "if income <= 10000:\n",
        "  print(\"u don't need to pay any tax\")\n",
        "elif income <= 50000:\n",
        "  print(\"ur tax is\",income*0.1)\n",
        "else:\n",
        "  print(\"ur tax is\",income*0.2)\n"
      ],
      "metadata": {
        "id": "ijEDRr8FRSm0",
        "colab": {
          "base_uri": "https://localhost:8080/"
        },
        "outputId": "51b4a611-c184-491f-859d-49dbc1e43f16"
      },
      "execution_count": 22,
      "outputs": [
        {
          "output_type": "stream",
          "name": "stdout",
          "text": [
            "how much is ur income?\n",
            "1000\n",
            "u don't need to pay any tax\n"
          ]
        }
      ]
    },
    {
      "cell_type": "markdown",
      "source": [
        "5. **Discount Eligibility:**\n",
        "    - A store offers a discount to students and senior citizens.\n",
        "    - Ask the user if they are a student or a senior citizen (yes or no for each). If they answer \"yes\" to either, inform them they are eligible for a discount.\n",
        "\n"
      ],
      "metadata": {
        "id": "qonCcp_PRTDL"
      }
    },
    {
      "cell_type": "code",
      "source": [
        "#Ex5\n",
        "#\n",
        "print(\"Are u a student? answer yes or no\")\n",
        "student = input().lower()\n",
        "print(\"Are u a senior citizen? answer yes or no\")\n",
        "senior_citizen = input().lower()\n",
        "if student == \"yes\" or senior_citizen == \"yes\":\n",
        "    print(\"u can have the discount.\")\n",
        "else:\n",
        "    print(\"u can't have the discount.\")\n",
        "\n",
        "\n",
        "\n"
      ],
      "metadata": {
        "id": "5YBnUfs-RUku",
        "colab": {
          "base_uri": "https://localhost:8080/"
        },
        "outputId": "2a2ff856-fb67-4ea4-b94c-62ab2fc151e7"
      },
      "execution_count": 3,
      "outputs": [
        {
          "output_type": "stream",
          "name": "stdout",
          "text": [
            "Are u a student? answer yes or no\n",
            "yes\n",
            "Are u a senior citizen? answer yes or no\n",
            "no\n",
            "u can have the discount.\n"
          ]
        }
      ]
    },
    {
      "cell_type": "markdown",
      "source": [
        "6. **Shipping Cost Calculator:**\n",
        "    - Shipping costs vary based on the weight of a package.\n",
        "    - Weight up to 1kg: $5, Weight 1.1kg-5kg: $10, Weight above 5kg: $20.\n",
        "    - Ask the user for the weight of their package and tell them the shipping cost.\n",
        "\n"
      ],
      "metadata": {
        "id": "vSf3pJOFRVGk"
      }
    },
    {
      "cell_type": "code",
      "source": [
        "print(\"how heavy is ur package?\")\n",
        "weight = float(input())\n",
        "if weight <= 1:\n",
        "  print(\"ur ticket is cost $5\")\n",
        "elif weight < 5:\n",
        "  print(\"ur ticket is cost $10\")\n",
        "else:\n",
        "  print(\"ur shipping is cost $20\")"
      ],
      "metadata": {
        "id": "1roU2zvFRWbR",
        "colab": {
          "base_uri": "https://localhost:8080/"
        },
        "outputId": "94fb27b7-4db1-4ef0-8624-d30e623c6b9a"
      },
      "execution_count": 25,
      "outputs": [
        {
          "output_type": "stream",
          "name": "stdout",
          "text": [
            "how heavy is ur package?\n",
            "1\n",
            "ur ticket is cost $5\n"
          ]
        }
      ]
    },
    {
      "cell_type": "markdown",
      "source": [
        "7. **Drink Selector:**\n",
        "    - Ask the user for their age.\n",
        "    - If they are under 18, suggest a non-alcoholic drink (like juice or soda). If they are 18 and above, suggest an alcoholic beverage (like wine or beer)."
      ],
      "metadata": {
        "id": "WXtyKwyYRWzS"
      }
    },
    {
      "cell_type": "code",
      "source": [
        "print(\"how old r u ?\")\n",
        "age = int(input())\n",
        "if age < 18:\n",
        "  print(\"u r under 18, u only can drink non-alcoholic drink, like coke.\")\n",
        "else:\n",
        "  print(\"u r above 18, u can enjoy ur alcoholic beverage, like whiskey.\")\n"
      ],
      "metadata": {
        "id": "iG4YUGa5RXeM",
        "colab": {
          "base_uri": "https://localhost:8080/"
        },
        "outputId": "7e22b8db-0250-41c8-ed55-6670f75ca80a"
      },
      "execution_count": 26,
      "outputs": [
        {
          "output_type": "stream",
          "name": "stdout",
          "text": [
            "how old r u ?\n",
            "18\n",
            "u r above 18, u can enjoy ur alcoholic beverage, like whiskey\n"
          ]
        }
      ]
    }
  ]
}